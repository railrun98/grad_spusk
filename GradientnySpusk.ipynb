{
  "nbformat": 4,
  "nbformat_minor": 0,
  "metadata": {
    "colab": {
      "name": "GradientnySpusk.ipynb",
      "provenance": [],
      "collapsed_sections": [],
      "authorship_tag": "ABX9TyNdD+vhGkyxX0nHV62PsKL4",
      "include_colab_link": true
    },
    "kernelspec": {
      "name": "python3",
      "display_name": "Python 3"
    }
  },
  "cells": [
    {
      "cell_type": "markdown",
      "metadata": {
        "id": "view-in-github",
        "colab_type": "text"
      },
      "source": [
        "<a href=\"https://colab.research.google.com/github/railrun98/prroe1/blob/master/GradientnySpusk.ipynb\" target=\"_parent\"><img src=\"https://colab.research.google.com/assets/colab-badge.svg\" alt=\"Open In Colab\"/></a>"
      ]
    },
    {
      "cell_type": "code",
      "metadata": {
        "id": "NUb-8StDdxLV"
      },
      "source": [
        "import matplotlib.pyplot as plt\n",
        "import numpy as np\n",
        "import warnings\n",
        "import random\n",
        "\n",
        "warnings.filterwarnings('ignore')\n",
        "%matplotlib inline"
      ],
      "execution_count": null,
      "outputs": []
    },
    {
      "cell_type": "code",
      "metadata": {
        "id": "VtBdNHkbmnKG"
      },
      "source": [
        "import matplotlib.pyplot as plt\n",
        "import numpy as np\n",
        "import pandas as pd\n",
        "import warnings\n",
        "\n",
        "np.random.seed(0)\n",
        "\n",
        "warnings.filterwarnings('ignore')\n",
        "%matplotlib inline"
      ],
      "execution_count": null,
      "outputs": []
    },
    {
      "cell_type": "code",
      "metadata": {
        "id": "QCrY96W6d3oW"
      },
      "source": [
        "from sklearn.base import BaseEstimator\n",
        "\n",
        "class LinearRegression(BaseEstimator):\n",
        "    def __init__(self, epsilon=1e-7, max_steps=60000, w0=None, alpha=1e-4):\n",
        "        \"\"\"\n",
        "        epsilon: разница для нормы изменения весов \n",
        "        max_steps: максимальное количество шагов в градиентном спуске\n",
        "        w0: np.array (d,) - начальные веса\n",
        "        alpha: шаг обучения\n",
        "        \"\"\"\n",
        "        self.epsilon = epsilon\n",
        "        self.max_steps = max_steps\n",
        "        self.w0 = w0\n",
        "        self.alpha = alpha\n",
        "        self.w = None\n",
        "        self.w_history = []\n",
        "    \n",
        "    def fit(self, X, y):\n",
        "        \"\"\"\n",
        "        X: np.array (l, d)\n",
        "        y: np.array (l)\n",
        "        ---\n",
        "        output: self\n",
        "        \"\"\"\n",
        "        l, d = X.shape\n",
        "\n",
        "        if self.w0 is None:\n",
        "          self.w0 = np.zeros(d)\n",
        "\n",
        "        self.w = self.w0\n",
        "\n",
        "        for step in range(self.max_steps):\n",
        "          self.w_history.append(self.w)\n",
        "\n",
        "          w_new = self.w - self.alpha * self.calc_gradient(X, y)\n",
        "\n",
        "          if (np.linalg.norm(w_new - self.w) < self.epsilon):\n",
        "            break\n",
        "          \n",
        "          self.w = w_new\n",
        "        \n",
        "        return self\n",
        "    \n",
        "    def predict(self, X):\n",
        "        \"\"\"\n",
        "        X: np.array (l, d)\n",
        "        ---\n",
        "        output: np.array (l)\n",
        "        \"\"\"\n",
        "        \n",
        "        if self.w is None:\n",
        "            raise Exception('Not trained yet')\n",
        "        \n",
        "        l, d = X.shape\n",
        "\n",
        "        y_pred = []\n",
        "\n",
        "        for i in range(l):\n",
        "          y_pred.append(np.dot(X[i], self.w))\n",
        "\n",
        "        return np.array(y_pred)\n",
        "    \n",
        "    def calc_gradient(self, X, y):\n",
        "        \"\"\"\n",
        "        X: np.array (l, d)\n",
        "        y: np.array (l)\n",
        "        ---\n",
        "        output: np.array (d)\n",
        "        \"\"\"\n",
        "        \n",
        "        l, d = X.shape\n",
        "        gradient = []\n",
        "        \n",
        "        for j in range(d):\n",
        "          dQ = 0\n",
        "          i=random.randint(0,l-1)\n",
        "          dQ = (2/l)*X[i][j] * (np.dot(X[i], self.w) - y[i])\n",
        "            #dQ=(2/l)*dQ\n",
        "          gradient.append(dQ)\n",
        "\n",
        "        return np.array(gradient)"
      ],
      "execution_count": null,
      "outputs": []
    },
    {
      "cell_type": "code",
      "metadata": {
        "id": "WHrlAUEUml1N"
      },
      "source": [
        "from sklearn.datasets import load_boston\n",
        "from sklearn.model_selection import train_test_split\n",
        "\n",
        "data = load_boston()\n",
        "X = pd.DataFrame(data.data, columns=data.feature_names)\n",
        "y = data.target\n",
        "\n",
        "X_train, X_test, y_train, y_test = train_test_split(np.array(X), y, test_size=0.3, random_state=10)"
      ],
      "execution_count": null,
      "outputs": []
    },
    {
      "cell_type": "code",
      "metadata": {
        "id": "CJ4mTYOdeDWT",
        "outputId": "748bd543-026d-4d77-e24e-328be55522f0",
        "colab": {
          "base_uri": "https://localhost:8080/"
        }
      },
      "source": [
        "lr = LinearRegression()\n",
        "lr.fit(X_train, y_train)\n"
      ],
      "execution_count": null,
      "outputs": [
        {
          "output_type": "execute_result",
          "data": {
            "text/plain": [
              "LinearRegression(alpha=0.0001, epsilon=1e-07, max_steps=600000,\n",
              "                 w0=array([0., 0., 0., 0., 0., 0., 0., 0., 0., 0., 0., 0., 0.]))"
            ]
          },
          "metadata": {
            "tags": []
          },
          "execution_count": 551
        }
      ]
    },
    {
      "cell_type": "code",
      "metadata": {
        "id": "W4j34rJT3Fyg",
        "outputId": "4a242509-73b3-41bb-efae-3eb5844c2295",
        "colab": {
          "base_uri": "https://localhost:8080/"
        }
      },
      "source": [
        "(lr.predict(X_test))"
      ],
      "execution_count": null,
      "outputs": [
        {
          "output_type": "execute_result",
          "data": {
            "text/plain": [
              "array([ 28.69764719,  26.71849369,  29.66791281,  27.26147029,\n",
              "        18.52248108,  11.65671376,  29.56927189,  18.34338467,\n",
              "        22.35427214,  32.16672169,  21.79390068,  24.6240975 ,\n",
              "        23.57780352,  31.37096328,  28.58835185,  31.71396688,\n",
              "        21.24673866,  22.46380634,  19.3090199 ,  17.09852961,\n",
              "        27.26144827,  16.49225996,  22.56887626,  23.51257528,\n",
              "        27.29352219,  21.87792292,  18.73680167,  14.76855815,\n",
              "        29.29064682,  -6.55835207,  26.81755566,  27.48909035,\n",
              "        30.83834087,  17.78157512,  17.71194165,  18.98238675,\n",
              "        -4.41843601,  35.60401921,  23.92276833,  24.93132366,\n",
              "        22.83256179,  26.54128526,  16.0304262 ,  27.60768833,\n",
              "        17.98192554,  30.01960879,  19.63283699,  19.38433199,\n",
              "        30.89354434,  21.60449821,  20.44459104,  17.31657578,\n",
              "        20.71341536,  25.88521052,  29.90294456,  26.4776001 ,\n",
              "        17.31973054,  20.36796641,  14.32164667,  21.24979753,\n",
              "        24.1023943 ,  19.95803957,  30.16425401,  32.27063232,\n",
              "        21.96730222,  19.33469382,  19.0079814 ,   0.9817321 ,\n",
              "        30.80893744,  25.93218326,  18.59708071,  20.50397829,\n",
              "        18.14100041,  22.55104295,  25.57405543,  -0.70397818,\n",
              "        31.33798414,   5.89593226,  23.82746092,  24.44640118,\n",
              "        20.28321731,  27.95645769,  18.67608283,  23.53554335,\n",
              "        29.20739796,  31.08024254,  21.70965908,  26.79535481,\n",
              "        24.30513216, -11.1275511 ,  23.5205191 ,  22.18495541,\n",
              "        24.98872919,  21.99030465,  25.90261727,  17.62147048,\n",
              "        29.29842555,  17.97770996,  22.06077019,  25.13399031,\n",
              "        22.62176705,  17.09783096,  19.55162649,  11.82832931,\n",
              "        15.48921557,  17.90794969,  20.23640469,  15.24751956,\n",
              "        29.05560685,  29.01108713,  11.48891551,  18.84995852,\n",
              "        23.17378788,  24.34633801,  23.57745616,  15.12167921,\n",
              "        13.83173824,  17.0290453 ,  11.98909688,  17.56375602,\n",
              "        30.68592043,  27.8673917 ,  18.62372871,   9.33104926,\n",
              "        21.72647234,  25.04429987,   5.87512742,  14.66488395,\n",
              "        22.47104241,  26.43825988,  31.57414177,   2.16771795,\n",
              "        29.77646845,  23.9457603 ,  16.48365182,  18.20902736,\n",
              "        21.20452093,  30.06326058,   6.19492847,  -2.59400824,\n",
              "        26.66087822,  11.61605049,  17.41073405,  17.69411368,\n",
              "         0.2554729 ,  12.62103183,  29.41798329,  32.04046274,\n",
              "        21.00853497,  26.33506105,   5.09672829,  14.31610303])"
            ]
          },
          "metadata": {
            "tags": []
          },
          "execution_count": 554
        }
      ]
    },
    {
      "cell_type": "code",
      "metadata": {
        "id": "3gWSi8bU3GZJ",
        "outputId": "09024e64-1ec4-4180-80bd-5fcf276f18b5",
        "colab": {
          "base_uri": "https://localhost:8080/"
        }
      },
      "source": [
        "(y_test)"
      ],
      "execution_count": null,
      "outputs": [
        {
          "output_type": "execute_result",
          "data": {
            "text/plain": [
              "array([28.4, 31.1, 23.5, 26.6, 19.6, 14.3, 50. , 14.3, 20.7, 37.6, 20.4,\n",
              "       27.5, 36.2, 32. , 33.1, 48.8, 24.6, 26.4, 23.2, 17. , 41.3, 14.9,\n",
              "       18.5, 25. , 36.4, 19.5, 27.1, 14.9, 46. , 17.9, 30.3, 31.6, 23.1,\n",
              "       24.7, 16.7, 18.3,  8.4, 37.3, 22.1, 22. , 46.7, 30.1, 12.1, 29.1,\n",
              "       16.6, 23.9, 19.9, 21.4, 45.4, 15.6, 22.7, 12.5, 24.3, 43.8, 22. ,\n",
              "       33.8, 19.3, 22.6, 16.1, 15. , 19.6, 21.2, 50. , 50. , 29.4, 17.8,\n",
              "       22.8,  8.8, 32.5, 42.8, 12.6, 28.6, 19.1, 50. , 27.5, 23.7, 50. ,\n",
              "        7.2, 18.7, 37. , 22.9, 22.9, 17.1, 22. , 23.6, 23.9, 27.1, 29. ,\n",
              "       22.2,  7. , 20.7, 18.5, 21.6, 23. , 16. , 15. , 23.9, 24.4, 22.6,\n",
              "       19.8, 22.2, 18.6, 19.7, 23.1, 13.5, 21.2, 23.1, 13.6, 22.8, 18.2,\n",
              "       13.1, 23.2, 22.8, 25.1, 18.9, 10.9, 19.3, 17.4, 15.6, 20.6, 50. ,\n",
              "       32.7, 21.8, 13.4, 16.6, 23.6, 11. , 23.8, 23.1, 33.2, 28.2,  8.5,\n",
              "       32.4, 29.6, 17.1, 24.2, 26.4, 33.2, 10.5,  8.8, 28. , 10.5, 15.4,\n",
              "       15.3, 10.4, 15.7, 43.1, 24.7, 21. , 19.4, 10.9, 21.7])"
            ]
          },
          "metadata": {
            "tags": []
          },
          "execution_count": 545
        }
      ]
    },
    {
      "cell_type": "code",
      "metadata": {
        "id": "au1d6N7I3Glc"
      },
      "source": [
        ""
      ],
      "execution_count": null,
      "outputs": []
    },
    {
      "cell_type": "code",
      "metadata": {
        "id": "qeAVBPAwn7TF"
      },
      "source": [
        "def MAPE(y_true, y_pred):\n",
        "    \"\"\"\n",
        "        y_true: np.array (l)\n",
        "        y_pred: np.array (l)\n",
        "        ---\n",
        "        output: float [0, +inf)\n",
        "    \"\"\"\n",
        "    l, d = X_test.shape\n",
        "    q=0\n",
        "    for i in range(l):\n",
        "      q=+100*(1/l)*(abs((y_pred[i]-y_true[i])/y_true[i]))\n",
        "    return q"
      ],
      "execution_count": null,
      "outputs": []
    },
    {
      "cell_type": "code",
      "metadata": {
        "id": "yyGjGrH3vCmd"
      },
      "source": [
        "l,d = X_test.shape\n",
        "y_0=[np.mean(y_test) for i in range(l)]\n",
        "f=np.array(y_0)"
      ],
      "execution_count": null,
      "outputs": []
    },
    {
      "cell_type": "code",
      "metadata": {
        "id": "BZtRVxBYwYGz",
        "outputId": "cc18f3c0-4672-40fa-8a07-d0077fd77011",
        "colab": {
          "base_uri": "https://localhost:8080/"
        }
      },
      "source": [
        "MAPE(y_test, f)"
      ],
      "execution_count": null,
      "outputs": [
        {
          "output_type": "execute_result",
          "data": {
            "text/plain": [
              "0.05283693298179837"
            ]
          },
          "metadata": {
            "tags": []
          },
          "execution_count": 489
        }
      ]
    },
    {
      "cell_type": "code",
      "metadata": {
        "id": "9I_PMbyexFpl"
      },
      "source": [
        ""
      ],
      "execution_count": null,
      "outputs": []
    }
  ]
}